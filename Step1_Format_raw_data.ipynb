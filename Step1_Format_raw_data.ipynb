{
 "cells": [
  {
   "cell_type": "markdown",
   "metadata": {},
   "source": [
    "# Step 1. Importing and formatting the raw data"
   ]
  },
  {
   "cell_type": "code",
   "execution_count": 16,
   "metadata": {
    "collapsed": false
   },
   "outputs": [],
   "source": [
    "import pandas as pd\n",
    "import numpy as np"
   ]
  },
  {
   "cell_type": "markdown",
   "metadata": {},
   "source": [
    "Let's choose the dataset we want to work with, by default Barcelona, and import the selected features."
   ]
  },
  {
   "cell_type": "code",
   "execution_count": 23,
   "metadata": {
    "collapsed": false
   },
   "outputs": [],
   "source": [
    "df1 = pd.read_csv('train.csv',sep=\",\")\n",
    "#df1 = pd.read_csv('raw/listings_madrid.csv',sep=\",\")\n",
    "#df1 = pd.read_csv('raw/listings_london.csv',sep=\",\")\n",
    "#df1 = pd.read_csv('raw/listings_berlin.csv',sep=\",\")\n",
    "#df1 = pd.read_csv('raw/listings_paris.csv',sep=\",\")"
   ]
  },
  {
   "cell_type": "code",
   "execution_count": 31,
   "metadata": {
    "collapsed": false
   },
   "outputs": [],
   "source": [
    "data = df1[[     \n",
    "'zipcode','latitude','longitude','cancellation_policy',       \n",
    "'property_type','room_type','bathrooms','bedrooms','beds','bed_type','amenities',        \n",
    "'accommodates', 'host_identity_verified','cleaning_fee','log_price'\n",
    "]]"
   ]
  },
  {
   "cell_type": "markdown",
   "metadata": {},
   "source": [
    "Converting \"host_about\" and \"security_deposit\" to 0 or 1 so we can ask them to our users:"
   ]
  },
  {
   "cell_type": "code",
   "execution_count": 32,
   "metadata": {
    "collapsed": false
   },
   "outputs": [],
   "source": [
    ""
   ]
  },
  {
   "cell_type": "code",
   "execution_count": 32,
   "metadata": {
    "collapsed": false
   },
   "outputs": [],
   "source": [
    ""
   ]
  },
  {
   "cell_type": "markdown",
   "metadata": {},
   "source": [
    "Cleaning and converting some features to a numeric format:"
   ]
  },
  {
   "cell_type": "code",
   "execution_count": 32,
   "metadata": {
    "collapsed": true
   },
   "outputs": [
    {
     "name": "stderr",
     "output_type": "stream",
     "text": [
      "C:\\Users\\dhmodi\\AppData\\Local\\Programs\\Python\\Python35\\lib\\site-packages\\pandas\\core\\indexing.py:517: SettingWithCopyWarning: \nA value is trying to be set on a copy of a slice from a DataFrame.\nTry using .loc[row_indexer,col_indexer] = value instead\n\nSee the caveats in the documentation: http://pandas.pydata.org/pandas-docs/stable/indexing.html#indexing-view-versus-copy\n  self.obj[item] = s\n"
     ]
    }
   ],
   "source": [
    "\n",
    "#data.loc[:,('price')] = data.loc[:,('price')].map(lambda x:x.replace('$','').replace(',',''))\n",
    "data.loc[:,('cleaning_fee')] = data.loc[:,('cleaning_fee')].map(lambda x:str(x).replace('FALSE','0').replace('TRUE','1'))\n",
    "data.loc[:,('host_identity_verified')] = data.loc[:,('host_identity_verified')].map(lambda x:str(x).replace('f','0').replace('t','1'))\n",
    "\n",
    "data.loc[:,('log_price')] = pd.to_numeric(data.loc[:,('log_price')],errors='coerce')\n",
    "data.loc[:,('cleaning_fee')] = pd.to_numeric(data.loc[:,('cleaning_fee')],errors='coerce')\n",
    "data.loc[:,('host_identity_verified')] = pd.to_numeric(data.loc[:,('host_identity_verified')],errors='coerce')\n",
    "data.loc[:,('zipcode')] = pd.to_numeric(data.loc[:,('zipcode')],errors='coerce')\n"
   ]
  },
  {
   "cell_type": "markdown",
   "metadata": {},
   "source": [
    "Cleaning and separating the \"amenities\" feature which contains a lot of information:"
   ]
  },
  {
   "cell_type": "code",
   "execution_count": 33,
   "metadata": {
    "collapsed": false
   },
   "outputs": [
    {
     "name": "stderr",
     "output_type": "stream",
     "text": [
      "C:\\Users\\dhmodi\\AppData\\Local\\Programs\\Python\\Python35\\lib\\site-packages\\pandas\\core\\indexing.py:337: SettingWithCopyWarning: \nA value is trying to be set on a copy of a slice from a DataFrame.\nTry using .loc[row_indexer,col_indexer] = value instead\n\nSee the caveats in the documentation: http://pandas.pydata.org/pandas-docs/stable/indexing.html#indexing-view-versus-copy\n  self.obj[key] = _infer_fill_value(value)\nC:\\Users\\dhmodi\\AppData\\Local\\Programs\\Python\\Python35\\lib\\site-packages\\pandas\\core\\indexing.py:517: SettingWithCopyWarning: \nA value is trying to be set on a copy of a slice from a DataFrame.\nTry using .loc[row_indexer,col_indexer] = value instead\n\nSee the caveats in the documentation: http://pandas.pydata.org/pandas-docs/stable/indexing.html#indexing-view-versus-copy\n  self.obj[item] = s\n"
     ]
    }
   ],
   "source": [
    "def cleanAmenities(data):\n",
    "    aux = data.replace('{','')\n",
    "    aux = aux.replace('}','')\n",
    "    aux = aux.replace('\"','')\n",
    "    return aux.split(',')\n",
    "\n",
    "def getColumnInfoTV(data):\n",
    "    aux = cleanAmenities(data)\n",
    "    if 'TV' in aux:\n",
    "        return 1\n",
    "    return 0\n",
    "\n",
    "def getColumnInfoInternet(data):\n",
    "    aux = cleanAmenities(data)\n",
    "    if 'Wireless Internet' in aux or 'Internet' in aux :\n",
    "        return 1\n",
    "    return 0\n",
    "\n",
    "def getColumnInfoKitchen(data):\n",
    "    aux = cleanAmenities(data)\n",
    "    if 'Kitchen' in aux:\n",
    "        return 1\n",
    "    return 0\n",
    "\n",
    "def getColumnInfoAirConditioning(data):\n",
    "    aux = cleanAmenities(data)\n",
    "    if 'Air Conditioning' in aux:\n",
    "        return 1\n",
    "    return 0\n",
    "\n",
    "def getColumnInfoSmoking(data):\n",
    "    aux = cleanAmenities(data)\n",
    "    if 'Smoking Allowed' in aux:\n",
    "        return 1\n",
    "    return 0\n",
    "\n",
    "def getColumnInfoHotTub(data):\n",
    "    aux = cleanAmenities(data)\n",
    "    if 'Hot Tub' in aux:\n",
    "        return 1\n",
    "    return 0\n",
    "\n",
    "def getColumnInfoHeating(data):\n",
    "    aux = cleanAmenities(data)\n",
    "    if 'Heating' in aux:\n",
    "        return 1\n",
    "    return 0\n",
    "\n",
    "def getColumnInfoFamily(data):\n",
    "    aux = cleanAmenities(data)\n",
    "    if 'Family/Kid Friendly' in aux:\n",
    "        return 1\n",
    "    return 0\n",
    "\n",
    "def getColumnInfoEvents(data):\n",
    "    aux = cleanAmenities(data)\n",
    "    if 'Suitable for Events' in aux:\n",
    "        return 1\n",
    "    return 0\n",
    "\n",
    "def getColumnInfoDryer(data):\n",
    "    aux = cleanAmenities(data)\n",
    "    if 'Dryer' in aux:\n",
    "        return 1\n",
    "    return 0\n",
    "\n",
    "def getColumnInfoSmoke(data):\n",
    "    aux = cleanAmenities(data)\n",
    "    if 'Smoke Detector' in aux:\n",
    "        return 1\n",
    "    return 0\n",
    "\n",
    "def getColumnInfoShampoo(data):\n",
    "    aux = cleanAmenities(data)\n",
    "    if 'Shampoo' in aux:\n",
    "        return 1\n",
    "    return 0\n",
    "\n",
    "def getColumnInfoElevator(data):\n",
    "    aux = cleanAmenities(data)\n",
    "    if 'Elevator in Building' in aux:\n",
    "        return 1\n",
    "    return 0\n",
    "\n",
    "def getColumnInfoWasher(data):\n",
    "    aux = cleanAmenities(data)\n",
    "    if 'Washer' in aux:\n",
    "        return 1\n",
    "    return 0\n",
    "\n",
    "def getColumnInfoIntercom(data):\n",
    "    aux = cleanAmenities(data)\n",
    "    if 'Buzzer/Wireless Intercom' in aux:\n",
    "        return 1\n",
    "    return 0\n",
    "\n",
    "def getColumnInfoEssentials(data):\n",
    "    aux = cleanAmenities(data)\n",
    "    if 'Essentials' in aux:\n",
    "        return 1\n",
    "    return 0\n",
    "\n",
    "def getColumnInfoLock(data):\n",
    "    aux = cleanAmenities(data)\n",
    "    if 'Lock on Bedroom Door' in aux:\n",
    "        return 1\n",
    "    return 0\n",
    "\n",
    "def getColumnInfo24HourCheckIn(data):\n",
    "    aux = cleanAmenities(data)\n",
    "    if '24-Hour Check-in' in aux:\n",
    "        return 1\n",
    "    return 0\n",
    "\n",
    "def getColumnInfoHangers(data):\n",
    "    aux = cleanAmenities(data)\n",
    "    if 'Hangers' in aux:\n",
    "        return 1\n",
    "    return 0\n",
    "\n",
    "def getColumnInfoLaptopF(data):\n",
    "    aux = cleanAmenities(data)\n",
    "    if 'Laptop Friendly Workspace' in aux:\n",
    "        return 1\n",
    "    return 0\n",
    "\n",
    "def getColumnInfoHairDryer(data):\n",
    "    aux = cleanAmenities(data)\n",
    "    if 'Hair Dryer' in aux:\n",
    "        return 1\n",
    "    return 0\n",
    "\n",
    "def getColumnInfoIron(data):\n",
    "    aux = cleanAmenities(data)\n",
    "    if 'Iron' in aux:\n",
    "        return 1\n",
    "    return 0\n",
    "\n",
    "def getColumnInfoFirstAidKit(data):\n",
    "    aux = cleanAmenities(data)\n",
    "    if 'First Aid Kit' in aux:\n",
    "        return 1\n",
    "    return 0\n",
    "\n",
    "def getColumnInfoCableTV(data):\n",
    "    aux = cleanAmenities(data)\n",
    "    if 'Cable TV' in aux:\n",
    "        return 1\n",
    "    return 0\n",
    "\n",
    "def getColumnInfoFireplace(data):\n",
    "    aux = cleanAmenities(data)\n",
    "    if 'Indoor Fireplace' in aux:\n",
    "        return 1\n",
    "    return 0\n",
    "\n",
    "def getColumnInfoExtinguisher(data):\n",
    "    aux = cleanAmenities(data)\n",
    "    if 'Fire Extinguisher' in aux:\n",
    "        return 1\n",
    "    return 0\n",
    "\n",
    "def getColumnInfoBreakfast(data):\n",
    "    aux = cleanAmenities(data)\n",
    "    if 'Breakfast' in aux:\n",
    "        return 1\n",
    "    return 0\n",
    "\n",
    "def getColumnInfoPets(data):\n",
    "    aux = cleanAmenities(data)\n",
    "    if 'Pets live on this property' in aux or 'Other pet(s)' in aux or 'Cat(s)' in aux or 'Dog(s)' in aux:\n",
    "        return 1\n",
    "    return 0\n",
    "\n",
    "def getColumnInfoPetsAllowed(data):\n",
    "    aux = cleanAmenities(data)\n",
    "    if 'Pets Allowed' in aux:\n",
    "        return 1\n",
    "    return 0\n",
    "\n",
    "def getColumnInfoParking(data):\n",
    "    aux = cleanAmenities(data)\n",
    "    if 'Free Parking on Premises' in aux:\n",
    "        return 1\n",
    "    return 0\n",
    "\n",
    "def getColumnInfoSafetyCard(data):\n",
    "    aux = cleanAmenities(data)\n",
    "    if 'Safety Card' in aux:\n",
    "        return 1\n",
    "    return 0\n",
    "\n",
    "def getColumnInfoDoorman(data):\n",
    "    aux = cleanAmenities(data)\n",
    "    if 'Doorman' in aux:\n",
    "        return 1\n",
    "    return 0\n",
    "\n",
    "def getColumnInfoWheelchair(data):\n",
    "    aux = cleanAmenities(data)\n",
    "    if 'Wheelchair Accessible' in aux:\n",
    "        return 1\n",
    "    return 0\n",
    "\n",
    "def getColumnInfoCarbonDetector(data):\n",
    "    aux = cleanAmenities(data)\n",
    "    if 'Carbon Monoxide Detector' in aux:\n",
    "        return 1\n",
    "    return 0\n",
    "\n",
    "def getColumnInfoGym(data):\n",
    "    aux = cleanAmenities(data)\n",
    "    if 'Gym' in aux:\n",
    "        return 1\n",
    "    return 0\n",
    "\n",
    "def getColumnInfoWasherDryer(data):\n",
    "    aux = cleanAmenities(data)\n",
    "    if 'Washer / Dryer' in aux:\n",
    "        return 1\n",
    "    return 0\n",
    "\n",
    "def getColumnInfoPool(data):\n",
    "    aux = cleanAmenities(data)\n",
    "    if 'Pool' in aux:\n",
    "        return 1\n",
    "    return 0\n",
    "\n",
    "data.loc[:,(\"TV\")] = data.amenities.apply(getColumnInfoTV)\n",
    "data.loc[:,(\"Internet\")] = data.amenities.apply(getColumnInfoInternet)\n",
    "data.loc[:,(\"Kitchen\")] = data.amenities.apply(getColumnInfoKitchen)\n",
    "data.loc[:,(\"AC\")] = data.amenities.apply(getColumnInfoAirConditioning)\n",
    "data.loc[:,(\"Smoking\")] = data.amenities.apply(getColumnInfoSmoking)\n",
    "data.loc[:,(\"HotTub\")] = data.amenities.apply(getColumnInfoHotTub)\n",
    "data.loc[:,(\"Heating\")] = data.amenities.apply(getColumnInfoHeating)\n",
    "data.loc[:,(\"Family\")] = data.amenities.apply(getColumnInfoFamily)\n",
    "data.loc[:,(\"Events\")] = data.amenities.apply(getColumnInfoEvents)\n",
    "data.loc[:,(\"Dryer\")] = data.amenities.apply(getColumnInfoDryer)\n",
    "data.loc[:,(\"Smoke\")] = data.amenities.apply(getColumnInfoSmoke)\n",
    "data.loc[:,(\"Shampoo\")] = data.amenities.apply(getColumnInfoShampoo)\n",
    "data.loc[:,(\"Elevator\")] = data.amenities.apply(getColumnInfoElevator)\n",
    "data.loc[:,(\"Washer\")] = data.amenities.apply(getColumnInfoWasher)\n",
    "data.loc[:,(\"Intercom\")] = data.amenities.apply(getColumnInfoIntercom)\n",
    "data.loc[:,(\"Essentials\")] = data.amenities.apply(getColumnInfoEssentials)\n",
    "data.loc[:,(\"Lock\")] = data.amenities.apply(getColumnInfoLock)\n",
    "data.loc[:,(\"24HourCheckIn\")] = data.amenities.apply(getColumnInfo24HourCheckIn)\n",
    "data.loc[:,(\"Hangers\")] = data.amenities.apply(getColumnInfoHangers)\n",
    "data.loc[:,(\"LaptopF\")] = data.amenities.apply(getColumnInfoLaptopF)\n",
    "data.loc[:,(\"HairDryer\")] = data.amenities.apply(getColumnInfoHairDryer)\n",
    "data.loc[:,(\"Iron\")] = data.amenities.apply(getColumnInfoIron)\n",
    "data.loc[:,(\"FirstAidKit\")] = data.amenities.apply(getColumnInfoFirstAidKit)\n",
    "data.loc[:,(\"CableTV\")] = data.amenities.apply(getColumnInfoCableTV)\n",
    "data.loc[:,(\"Fireplace\")] = data.amenities.apply(getColumnInfoFireplace)\n",
    "data.loc[:,(\"Extinguisher\")] = data.amenities.apply(getColumnInfoExtinguisher)\n",
    "data.loc[:,(\"Breakfast\")] = data.amenities.apply(getColumnInfoBreakfast)\n",
    "data.loc[:,(\"Pets\")] = data.amenities.apply(getColumnInfoPets)\n",
    "data.loc[:,(\"PetsAllowed\")] = data.amenities.apply(getColumnInfoPetsAllowed)\n",
    "data.loc[:,(\"Parking\")] = data.amenities.apply(getColumnInfoParking)\n",
    "data.loc[:,(\"SafetyCard\")] = data.amenities.apply(getColumnInfoSafetyCard)\n",
    "data.loc[:,(\"Doorman\")] = data.amenities.apply(getColumnInfoDoorman)\n",
    "data.loc[:,(\"Wheelchair\")] = data.amenities.apply(getColumnInfoWheelchair)\n",
    "data.loc[:,(\"CarbonDetector\")] = data.amenities.apply(getColumnInfoCarbonDetector)\n",
    "data.loc[:,(\"Gym\")] = data.amenities.apply(getColumnInfoGym)\n",
    "data.loc[:,(\"WasherDryer\")] = data.amenities.apply(getColumnInfoWasherDryer)\n",
    "data.loc[:,(\"Pool\")] = data.amenities.apply(getColumnInfoPool)\n",
    "\n",
    "data.drop('amenities', axis=1, inplace=True)"
   ]
  },
  {
   "cell_type": "markdown",
   "metadata": {},
   "source": [
    "Applying the same splitting for the feature \"host_verifications\":"
   ]
  },
  {
   "cell_type": "markdown",
   "metadata": {},
   "source": [
    "Getting one hot encoding of \"neighbourhood_cleansed\", \"property_type\", \"room_type\" and \"bed_type\":"
   ]
  },
  {
   "cell_type": "code",
   "execution_count": 34,
   "metadata": {
    "collapsed": false
   },
   "outputs": [],
   "source": [
    "# Get one hot encoding of columns \n",
    "one_hot = pd.get_dummies(data['property_type'])\n",
    "data = data.drop('property_type', axis=1)\n",
    "data = data.join(one_hot)\n",
    "\n",
    "one_hot = pd.get_dummies(data['room_type'])\n",
    "data = data.drop('room_type', axis=1)\n",
    "data = data.join(one_hot)\n",
    "\n",
    "one_hot = pd.get_dummies(data['bed_type'])\n",
    "data = data.drop('bed_type', axis=1)\n",
    "data = data.join(one_hot)\n",
    "\n",
    "one_hot = pd.get_dummies(data['cancellation_policy'])\n",
    "data = data.drop('cancellation_policy', axis=1)\n",
    "data = data.join(one_hot)"
   ]
  },
  {
   "cell_type": "markdown",
   "metadata": {},
   "source": [
    "Summing the \"price\" and \"cleaning_fee\" features as final price:"
   ]
  },
  {
   "cell_type": "code",
   "execution_count": 35,
   "metadata": {
    "collapsed": true
   },
   "outputs": [],
   "source": [
    ""
   ]
  },
  {
   "cell_type": "markdown",
   "metadata": {},
   "source": [
    "Cleaning columns names characters:"
   ]
  },
  {
   "cell_type": "code",
   "execution_count": 35,
   "metadata": {
    "collapsed": true
   },
   "outputs": [],
   "source": [
    "data.columns = map(str.lower, data.columns)\n",
    "data.columns = [c.replace(' ', '_') for c in data.columns]\n",
    "data.columns = [c.replace(\"'\", '_') for c in data.columns]\n",
    "data.columns = [c.replace(\"/\", '_') for c in data.columns]\n",
    "data.columns = [c.replace('\\xc3\\xb3', 'o') for c in data.columns]\n",
    "data.columns = [c.replace('\\xc3\\xad', 'i') for c in data.columns]\n",
    "data.columns = [c.replace('\\xc3\\xa7', 'c') for c in data.columns]\n",
    "data.columns = [c.replace('\\xc3\\xa0', 'a') for c in data.columns]\n",
    "data.columns = [c.replace('\\xc3\\xb2', 'o') for c in data.columns]\n",
    "data.columns = [c.replace('\\xc3\\xa9', 'e') for c in data.columns]"
   ]
  },
  {
   "cell_type": "markdown",
   "metadata": {
    "collapsed": false
   },
   "source": [
    "Barcelona only: renaming some neighborhoods:"
   ]
  },
  {
   "cell_type": "markdown",
   "metadata": {},
   "source": [
    "Sorting the columns per name (to match in a future step the predict got from the form):"
   ]
  },
  {
   "cell_type": "code",
   "execution_count": 36,
   "metadata": {
    "collapsed": false
   },
   "outputs": [
    {
     "ename": "AttributeError",
     "evalue": "'DataFrame' object has no attribute 'sort'",
     "traceback": [
      "\u001b[1;31m---------------------------------------------------------------------------\u001b[0m",
      "\u001b[1;31mAttributeError\u001b[0m                            Traceback (most recent call last)",
      "\u001b[1;32m<ipython-input-36-6bd3d065315e>\u001b[0m in \u001b[0;36m<module>\u001b[1;34m()\u001b[0m\n\u001b[1;32m----> 1\u001b[1;33m \u001b[0mdata\u001b[0m \u001b[1;33m=\u001b[0m \u001b[0mdata\u001b[0m\u001b[1;33m.\u001b[0m\u001b[0msort\u001b[0m\u001b[1;33m(\u001b[0m\u001b[0maxis\u001b[0m\u001b[1;33m=\u001b[0m\u001b[1;36m1\u001b[0m\u001b[1;33m)\u001b[0m\u001b[1;33m\u001b[0m\u001b[0m\n\u001b[0m",
      "\u001b[1;32m~\\AppData\\Local\\Programs\\Python\\Python35\\lib\\site-packages\\pandas\\core\\generic.py\u001b[0m in \u001b[0;36m__getattr__\u001b[1;34m(self, name)\u001b[0m\n\u001b[0;32m   3079\u001b[0m             \u001b[1;32mif\u001b[0m \u001b[0mname\u001b[0m \u001b[1;32min\u001b[0m \u001b[0mself\u001b[0m\u001b[1;33m.\u001b[0m\u001b[0m_info_axis\u001b[0m\u001b[1;33m:\u001b[0m\u001b[1;33m\u001b[0m\u001b[0m\n\u001b[0;32m   3080\u001b[0m                 \u001b[1;32mreturn\u001b[0m \u001b[0mself\u001b[0m\u001b[1;33m[\u001b[0m\u001b[0mname\u001b[0m\u001b[1;33m]\u001b[0m\u001b[1;33m\u001b[0m\u001b[0m\n\u001b[1;32m-> 3081\u001b[1;33m             \u001b[1;32mreturn\u001b[0m \u001b[0mobject\u001b[0m\u001b[1;33m.\u001b[0m\u001b[0m__getattribute__\u001b[0m\u001b[1;33m(\u001b[0m\u001b[0mself\u001b[0m\u001b[1;33m,\u001b[0m \u001b[0mname\u001b[0m\u001b[1;33m)\u001b[0m\u001b[1;33m\u001b[0m\u001b[0m\n\u001b[0m\u001b[0;32m   3082\u001b[0m \u001b[1;33m\u001b[0m\u001b[0m\n\u001b[0;32m   3083\u001b[0m     \u001b[1;32mdef\u001b[0m \u001b[0m__setattr__\u001b[0m\u001b[1;33m(\u001b[0m\u001b[0mself\u001b[0m\u001b[1;33m,\u001b[0m \u001b[0mname\u001b[0m\u001b[1;33m,\u001b[0m \u001b[0mvalue\u001b[0m\u001b[1;33m)\u001b[0m\u001b[1;33m:\u001b[0m\u001b[1;33m\u001b[0m\u001b[0m\n",
      "\u001b[1;31mAttributeError\u001b[0m: 'DataFrame' object has no attribute 'sort'"
     ],
     "output_type": "error"
    }
   ],
   "source": [
    "data = data.sort(axis=1)"
   ]
  },
  {
   "cell_type": "code",
   "execution_count": 37,
   "metadata": {
    "collapsed": false
   },
   "outputs": [],
   "source": [
    "data.to_csv(\"step1_output.csv\", sep=\";\",encoding='utf-8', index=False, header=True)"
   ]
  },
  {
   "cell_type": "code",
   "execution_count": null,
   "metadata": {},
   "outputs": [],
   "source": []
  }
 ],
 "metadata": {
  "kernelspec": {
   "display_name": "Python 2",
   "language": "python",
   "name": "python2"
  },
  "language_info": {
   "codemirror_mode": {
    "name": "ipython",
    "version": 2
   },
   "file_extension": ".py",
   "mimetype": "text/x-python",
   "name": "python",
   "nbconvert_exporter": "python",
   "pygments_lexer": "ipython2",
   "version": "2.7.11"
  }
 },
 "nbformat": 4,
 "nbformat_minor": 0
}
